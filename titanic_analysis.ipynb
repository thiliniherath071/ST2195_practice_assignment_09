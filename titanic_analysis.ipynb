{
 "cells": [
  {
   "cell_type": "markdown",
   "id": "2829bbb4",
   "metadata": {},
   "source": [
    "## Import the libraries"
   ]
  },
  {
   "cell_type": "code",
   "execution_count": 1,
   "id": "ad3ffcae",
   "metadata": {},
   "outputs": [],
   "source": [
    "import pandas as pd\n",
    "import matplotlib.pyplot as plt\n",
    "from sklearn.datasets import fetch_openml  #using openml to import data\n",
    "from sklearn.metrics import plot_roc_curve\n",
    "from sklearn.model_selection import train_test_split, GridSearchCV      \n",
    "from sklearn.tree import DecisionTreeClassifier\n",
    "from sklearn.linear_model import LogisticRegression\n",
    "from sklearn.ensemble import GradientBoostingClassifier\n",
    "from sklearn.ensemble import RandomForestClassifier\n",
    "from sklearn.gaussian_process import GaussianProcessClassifier\n",
    "from sklearn.gaussian_process.kernels import RBF\n",
    "from sklearn.svm import LinearSVC\n",
    "from sklearn.pipeline import Pipeline\n",
    "from sklearn.impute import SimpleImputer\n",
    "from sklearn.preprocessing import StandardScaler, OneHotEncoder\n",
    "from sklearn.compose import ColumnTransformer #transform different types"
   ]
  },
  {
   "cell_type": "markdown",
   "id": "875030eb",
   "metadata": {},
   "source": [
    "## Load in the data"
   ]
  },
  {
   "cell_type": "code",
   "execution_count": 17,
   "id": "7d0b853b",
   "metadata": {
    "scrolled": false
   },
   "outputs": [
    {
     "data": {
      "text/html": [
       "<div>\n",
       "<style scoped>\n",
       "    .dataframe tbody tr th:only-of-type {\n",
       "        vertical-align: middle;\n",
       "    }\n",
       "\n",
       "    .dataframe tbody tr th {\n",
       "        vertical-align: top;\n",
       "    }\n",
       "\n",
       "    .dataframe thead th {\n",
       "        text-align: right;\n",
       "    }\n",
       "</style>\n",
       "<table border=\"1\" class=\"dataframe\">\n",
       "  <thead>\n",
       "    <tr style=\"text-align: right;\">\n",
       "      <th></th>\n",
       "      <th>pclass</th>\n",
       "      <th>name</th>\n",
       "      <th>sex</th>\n",
       "      <th>age</th>\n",
       "      <th>sibsp</th>\n",
       "      <th>parch</th>\n",
       "      <th>ticket</th>\n",
       "      <th>fare</th>\n",
       "      <th>cabin</th>\n",
       "      <th>embarked</th>\n",
       "      <th>boat</th>\n",
       "      <th>body</th>\n",
       "      <th>home.dest</th>\n",
       "      <th>survived</th>\n",
       "    </tr>\n",
       "  </thead>\n",
       "  <tbody>\n",
       "    <tr>\n",
       "      <th>0</th>\n",
       "      <td>1.0</td>\n",
       "      <td>Allen, Miss. Elisabeth Walton</td>\n",
       "      <td>female</td>\n",
       "      <td>29.0000</td>\n",
       "      <td>0.0</td>\n",
       "      <td>0.0</td>\n",
       "      <td>24160</td>\n",
       "      <td>211.3375</td>\n",
       "      <td>B5</td>\n",
       "      <td>S</td>\n",
       "      <td>2</td>\n",
       "      <td>NaN</td>\n",
       "      <td>St Louis, MO</td>\n",
       "      <td>1</td>\n",
       "    </tr>\n",
       "    <tr>\n",
       "      <th>1</th>\n",
       "      <td>1.0</td>\n",
       "      <td>Allison, Master. Hudson Trevor</td>\n",
       "      <td>male</td>\n",
       "      <td>0.9167</td>\n",
       "      <td>1.0</td>\n",
       "      <td>2.0</td>\n",
       "      <td>113781</td>\n",
       "      <td>151.5500</td>\n",
       "      <td>C22 C26</td>\n",
       "      <td>S</td>\n",
       "      <td>11</td>\n",
       "      <td>NaN</td>\n",
       "      <td>Montreal, PQ / Chesterville, ON</td>\n",
       "      <td>1</td>\n",
       "    </tr>\n",
       "    <tr>\n",
       "      <th>2</th>\n",
       "      <td>1.0</td>\n",
       "      <td>Allison, Miss. Helen Loraine</td>\n",
       "      <td>female</td>\n",
       "      <td>2.0000</td>\n",
       "      <td>1.0</td>\n",
       "      <td>2.0</td>\n",
       "      <td>113781</td>\n",
       "      <td>151.5500</td>\n",
       "      <td>C22 C26</td>\n",
       "      <td>S</td>\n",
       "      <td>None</td>\n",
       "      <td>NaN</td>\n",
       "      <td>Montreal, PQ / Chesterville, ON</td>\n",
       "      <td>0</td>\n",
       "    </tr>\n",
       "    <tr>\n",
       "      <th>3</th>\n",
       "      <td>1.0</td>\n",
       "      <td>Allison, Mr. Hudson Joshua Creighton</td>\n",
       "      <td>male</td>\n",
       "      <td>30.0000</td>\n",
       "      <td>1.0</td>\n",
       "      <td>2.0</td>\n",
       "      <td>113781</td>\n",
       "      <td>151.5500</td>\n",
       "      <td>C22 C26</td>\n",
       "      <td>S</td>\n",
       "      <td>None</td>\n",
       "      <td>135.0</td>\n",
       "      <td>Montreal, PQ / Chesterville, ON</td>\n",
       "      <td>0</td>\n",
       "    </tr>\n",
       "    <tr>\n",
       "      <th>4</th>\n",
       "      <td>1.0</td>\n",
       "      <td>Allison, Mrs. Hudson J C (Bessie Waldo Daniels)</td>\n",
       "      <td>female</td>\n",
       "      <td>25.0000</td>\n",
       "      <td>1.0</td>\n",
       "      <td>2.0</td>\n",
       "      <td>113781</td>\n",
       "      <td>151.5500</td>\n",
       "      <td>C22 C26</td>\n",
       "      <td>S</td>\n",
       "      <td>None</td>\n",
       "      <td>NaN</td>\n",
       "      <td>Montreal, PQ / Chesterville, ON</td>\n",
       "      <td>0</td>\n",
       "    </tr>\n",
       "  </tbody>\n",
       "</table>\n",
       "</div>"
      ],
      "text/plain": [
       "   pclass                                             name     sex      age  \\\n",
       "0     1.0                    Allen, Miss. Elisabeth Walton  female  29.0000   \n",
       "1     1.0                   Allison, Master. Hudson Trevor    male   0.9167   \n",
       "2     1.0                     Allison, Miss. Helen Loraine  female   2.0000   \n",
       "3     1.0             Allison, Mr. Hudson Joshua Creighton    male  30.0000   \n",
       "4     1.0  Allison, Mrs. Hudson J C (Bessie Waldo Daniels)  female  25.0000   \n",
       "\n",
       "   sibsp  parch  ticket      fare    cabin embarked  boat   body  \\\n",
       "0    0.0    0.0   24160  211.3375       B5        S     2    NaN   \n",
       "1    1.0    2.0  113781  151.5500  C22 C26        S    11    NaN   \n",
       "2    1.0    2.0  113781  151.5500  C22 C26        S  None    NaN   \n",
       "3    1.0    2.0  113781  151.5500  C22 C26        S  None  135.0   \n",
       "4    1.0    2.0  113781  151.5500  C22 C26        S  None    NaN   \n",
       "\n",
       "                         home.dest survived  \n",
       "0                     St Louis, MO        1  \n",
       "1  Montreal, PQ / Chesterville, ON        1  \n",
       "2  Montreal, PQ / Chesterville, ON        0  \n",
       "3  Montreal, PQ / Chesterville, ON        0  \n",
       "4  Montreal, PQ / Chesterville, ON        0  "
      ]
     },
     "execution_count": 17,
     "metadata": {},
     "output_type": "execute_result"
    }
   ],
   "source": [
    "X_initial, y = fetch_openml(\"titanic\", version=1, as_frame=True, return_X_y=True)\n",
    "combine_dataset = pd.concat([X_initial, y], axis=1)\n",
    "combine_dataset.head()"
   ]
  },
  {
   "cell_type": "markdown",
   "id": "b5330352",
   "metadata": {},
   "source": [
    "Save the data for R:"
   ]
  },
  {
   "cell_type": "code",
   "execution_count": 42,
   "id": "178a14c3",
   "metadata": {},
   "outputs": [],
   "source": [
    "combine_dataset.to_csv('/Users/kaifangzhou/Desktop/titanic_openml.csv', index=None)"
   ]
  },
  {
   "cell_type": "markdown",
   "id": "9a667729",
   "metadata": {},
   "source": [
    "## 1. Extend the results with more variables \n",
    "\n",
    "### Add the variable that is in previous analysis"
   ]
  },
  {
   "cell_type": "code",
   "execution_count": 18,
   "id": "f2237c76",
   "metadata": {},
   "outputs": [],
   "source": [
    "combine_dataset['family size'] = combine_dataset['sibsp'] + combine_dataset['parch'] + 1"
   ]
  },
  {
   "cell_type": "markdown",
   "id": "08089b4d",
   "metadata": {},
   "source": [
    "### Pipelines: Pre-Processing Stage"
   ]
  },
  {
   "cell_type": "code",
   "execution_count": 19,
   "id": "1f87f3d3",
   "metadata": {},
   "outputs": [],
   "source": [
    "features = ['age', 'fare', 'embarked', 'sex', 'pclass', 'family size']\n",
    "X = combine_dataset[features].copy()"
   ]
  },
  {
   "cell_type": "code",
   "execution_count": 20,
   "id": "2b60166d",
   "metadata": {},
   "outputs": [
    {
     "data": {
      "text/html": [
       "<div>\n",
       "<style scoped>\n",
       "    .dataframe tbody tr th:only-of-type {\n",
       "        vertical-align: middle;\n",
       "    }\n",
       "\n",
       "    .dataframe tbody tr th {\n",
       "        vertical-align: top;\n",
       "    }\n",
       "\n",
       "    .dataframe thead th {\n",
       "        text-align: right;\n",
       "    }\n",
       "</style>\n",
       "<table border=\"1\" class=\"dataframe\">\n",
       "  <thead>\n",
       "    <tr style=\"text-align: right;\">\n",
       "      <th></th>\n",
       "      <th>age</th>\n",
       "      <th>fare</th>\n",
       "      <th>embarked</th>\n",
       "      <th>sex</th>\n",
       "      <th>pclass</th>\n",
       "      <th>family size</th>\n",
       "    </tr>\n",
       "  </thead>\n",
       "  <tbody>\n",
       "    <tr>\n",
       "      <th>0</th>\n",
       "      <td>29.0000</td>\n",
       "      <td>211.3375</td>\n",
       "      <td>S</td>\n",
       "      <td>female</td>\n",
       "      <td>1.0</td>\n",
       "      <td>1.0</td>\n",
       "    </tr>\n",
       "    <tr>\n",
       "      <th>1</th>\n",
       "      <td>0.9167</td>\n",
       "      <td>151.5500</td>\n",
       "      <td>S</td>\n",
       "      <td>male</td>\n",
       "      <td>1.0</td>\n",
       "      <td>4.0</td>\n",
       "    </tr>\n",
       "    <tr>\n",
       "      <th>2</th>\n",
       "      <td>2.0000</td>\n",
       "      <td>151.5500</td>\n",
       "      <td>S</td>\n",
       "      <td>female</td>\n",
       "      <td>1.0</td>\n",
       "      <td>4.0</td>\n",
       "    </tr>\n",
       "    <tr>\n",
       "      <th>3</th>\n",
       "      <td>30.0000</td>\n",
       "      <td>151.5500</td>\n",
       "      <td>S</td>\n",
       "      <td>male</td>\n",
       "      <td>1.0</td>\n",
       "      <td>4.0</td>\n",
       "    </tr>\n",
       "    <tr>\n",
       "      <th>4</th>\n",
       "      <td>25.0000</td>\n",
       "      <td>151.5500</td>\n",
       "      <td>S</td>\n",
       "      <td>female</td>\n",
       "      <td>1.0</td>\n",
       "      <td>4.0</td>\n",
       "    </tr>\n",
       "  </tbody>\n",
       "</table>\n",
       "</div>"
      ],
      "text/plain": [
       "       age      fare embarked     sex  pclass  family size\n",
       "0  29.0000  211.3375        S  female     1.0          1.0\n",
       "1   0.9167  151.5500        S    male     1.0          4.0\n",
       "2   2.0000  151.5500        S  female     1.0          4.0\n",
       "3  30.0000  151.5500        S    male     1.0          4.0\n",
       "4  25.0000  151.5500        S  female     1.0          4.0"
      ]
     },
     "execution_count": 20,
     "metadata": {},
     "output_type": "execute_result"
    }
   ],
   "source": [
    "#Check out features\n",
    "X.head()"
   ]
  },
  {
   "cell_type": "code",
   "execution_count": 6,
   "id": "19d92cf4",
   "metadata": {},
   "outputs": [],
   "source": [
    "numerical_features = ['age', 'fare', 'family size']\n",
    "\n",
    "# Applying SimpleImputer and StandardScaler into a pipeline\n",
    "# SimpleImputer() (imputing either the mean or the median of the observations of each variable)\n",
    "# Scaling with the function StandardScaler()\n",
    "\n",
    "numerical_transformer = Pipeline(steps=[\n",
    "    ('imputer', SimpleImputer()),\n",
    "    ('scaler', StandardScaler())])\n",
    "\n",
    "categorical_features = ['embarked', 'sex', 'pclass']\n",
    "\n",
    "# Applying SimpleImputer and then OneHotEncoder into another pipeline\n",
    "# OneHotEncoder() encode categorical features as a one-hot numeric array.\n",
    "categorical_transformer = Pipeline(steps=[\n",
    "    ('imputer', SimpleImputer()),\n",
    "    ('onehot', OneHotEncoder(handle_unknown='ignore'))])\n",
    "\n",
    "\n",
    "# Having pre-processed the numerical and categorical features separately.\n",
    "# We can now merge them with the function ColumnTransformer()in which we specify the two pipelines to be merged using the argument transformers. \n",
    "# This creates a new pipeline called data_transformer.\n",
    "\n",
    "data_transformer = ColumnTransformer(\n",
    "    transformers=[\n",
    "        ('numerical', numerical_transformer, numerical_features),\n",
    "        ('categorical', categorical_transformer, categorical_features)]) \n"
   ]
  },
  {
   "cell_type": "markdown",
   "id": "fb8f2f9b",
   "metadata": {},
   "source": [
    "## Create the test and training sets"
   ]
  },
  {
   "cell_type": "code",
   "execution_count": 7,
   "id": "1970b9c7",
   "metadata": {},
   "outputs": [],
   "source": [
    "X_train, X_test, y_train, y_test = train_test_split(X, y, test_size=0.5,random_state=1)"
   ]
  },
  {
   "cell_type": "markdown",
   "id": "2b1bf8d9",
   "metadata": {},
   "source": [
    "To tune the pipeline we can use cross-validation for each combination of its hyperparameters. In other words we can use grid search cross-validation that can be done with the function GridSearchCV(). This requires setting up a parameter grid, which is a dictionary containing the names of each hyperparameter followed by its range of values. The hyperparameters to be tuned below are the imputation strategies used in SimpleImputer(). In the case of numerical variables there are two options, mean or median. For categorical variables one option is to impute the most frequent value of each variable (most_frequent), whereas another option is to impute the missing value to be the reference category (constant with filled value being left to the default of 0). The best possible combination is chosen based on fitting the models on the training data.\n",
    "\n",
    "\n",
    "\n",
    "Note: Grid Search cross-validation is a technique to select the best of the machine learning model, parameterized by a grid of hyperparameters."
   ]
  },
  {
   "cell_type": "markdown",
   "id": "ce985a22",
   "metadata": {},
   "source": [
    "### Set the parameter grid"
   ]
  },
  {
   "cell_type": "code",
   "execution_count": 21,
   "id": "b03b0fbb",
   "metadata": {},
   "outputs": [],
   "source": [
    "param_grid = {\n",
    "    'data_transformer__numerical__imputer__strategy': ['mean', 'median'],\n",
    "    'data_transformer__categorical__imputer__strategy': ['constant','most_frequent']\n",
    "}"
   ]
  },
  {
   "cell_type": "markdown",
   "id": "fec4272d",
   "metadata": {},
   "source": [
    "### Extend the results: logistic regression"
   ]
  },
  {
   "cell_type": "code",
   "execution_count": 22,
   "id": "990dc097",
   "metadata": {},
   "outputs": [],
   "source": [
    "# Complete the machine learning pipeline by simply attaching a learner to the data_transformer pipeline from the previous section\n",
    "\n",
    "pipe_lr = Pipeline(steps=[('data_transformer', data_transformer),\n",
    "                      ('pipe_lr', LogisticRegression(max_iter=10000, penalty = 'none'))])\n",
    "\n",
    "grid_lr = GridSearchCV(pipe_lr, param_grid=param_grid)\n",
    "\n",
    "grid_lr.fit(X_train, y_train);\n"
   ]
  },
  {
   "cell_type": "markdown",
   "id": "369cec5f",
   "metadata": {},
   "source": [
    "### Extend the results: gradient boosting"
   ]
  },
  {
   "cell_type": "markdown",
   "id": "954a9cad",
   "metadata": {},
   "source": [
    "Let us consider also the Gradient Boosting learner. For simplicity we do not explore tuning the hyperparameters of this learner and simply use the default values for them. Hence, the code is very similar as before, we do add the argument random_state=2 to ensure reproducible results."
   ]
  },
  {
   "cell_type": "code",
   "execution_count": 10,
   "id": "fb8516f1",
   "metadata": {},
   "outputs": [],
   "source": [
    "pipe_gdb = Pipeline(steps=[('data_transformer', data_transformer),\n",
    "       ('pipe_gdb',GradientBoostingClassifier(random_state=2))])\n",
    "\n",
    "grid_gdb = GridSearchCV(pipe_gdb, param_grid=param_grid)\n",
    "\n",
    "grid_gdb.fit(X_train, y_train);"
   ]
  },
  {
   "cell_type": "markdown",
   "id": "56d5db66",
   "metadata": {},
   "source": [
    "## 2. Extend the results with other classification methods\n",
    "\n",
    "S2 mentioned the following classification methods that are not demonstrated in T2:\n",
    "\n",
    "* Penalised logistic regression\n",
    "* Classification trees\n",
    "* Random forests\n",
    "* Gaussian process classification\n",
    "* Support vector machines "
   ]
  },
  {
   "cell_type": "markdown",
   "id": "568d0d1a",
   "metadata": {},
   "source": [
    "### Penalised logistic regression"
   ]
  },
  {
   "cell_type": "code",
   "execution_count": 23,
   "id": "e1eb0e0b",
   "metadata": {},
   "outputs": [],
   "source": [
    "pipe_plr = Pipeline(steps=[('data_transformer', data_transformer),\n",
    "                           ('pipe_plr', LogisticRegression(penalty='l1', max_iter=10000, tol=0.01, solver='saga'))])\n",
    "\n",
    "grid_plr = GridSearchCV(pipe_plr, param_grid=param_grid)\n",
    "\n",
    "grid_plr.fit(X_train, y_train);"
   ]
  },
  {
   "cell_type": "markdown",
   "id": "38d7ba32",
   "metadata": {},
   "source": [
    "### Classification tree"
   ]
  },
  {
   "cell_type": "code",
   "execution_count": 24,
   "id": "4caff880",
   "metadata": {},
   "outputs": [],
   "source": [
    "pipe_tree = Pipeline(steps=[('data_transformer', data_transformer),\n",
    "                           ('pipe_tree', DecisionTreeClassifier(random_state=0))])\n",
    "\n",
    "grid_tree = GridSearchCV(pipe_tree, param_grid=param_grid)\n",
    "\n",
    "grid_tree.fit(X_train, y_train);"
   ]
  },
  {
   "cell_type": "markdown",
   "id": "934d4e92",
   "metadata": {},
   "source": [
    "### Random forests"
   ]
  },
  {
   "cell_type": "code",
   "execution_count": 25,
   "id": "0c4819cf",
   "metadata": {},
   "outputs": [],
   "source": [
    "pipe_rf = Pipeline(steps=[('data_transformer', data_transformer),\n",
    "                           ('pipe_rf', RandomForestClassifier(random_state=0))])\n",
    "\n",
    "grid_rf = GridSearchCV(pipe_rf, param_grid=param_grid)\n",
    "\n",
    "grid_rf.fit(X_train, y_train);"
   ]
  },
  {
   "cell_type": "markdown",
   "id": "9f1b2eae",
   "metadata": {},
   "source": [
    "### Gaussian process classification"
   ]
  },
  {
   "cell_type": "code",
   "execution_count": 26,
   "id": "5e75ac95",
   "metadata": {},
   "outputs": [],
   "source": [
    "kernel = 1.0 * RBF(1.0)\n",
    "\n",
    "pipe_gp = Pipeline(steps=[('data_transformer', data_transformer),\n",
    "                           ('pipe_gp',  GaussianProcessClassifier(kernel=kernel, random_state=0))])\n",
    "\n",
    "grid_gp = GridSearchCV(pipe_gp, param_grid=param_grid)\n",
    "grid_gp.fit(X_train, y_train);"
   ]
  },
  {
   "cell_type": "markdown",
   "id": "87d04f59",
   "metadata": {},
   "source": [
    "### Support vector machines"
   ]
  },
  {
   "cell_type": "code",
   "execution_count": 27,
   "id": "c5e70900",
   "metadata": {},
   "outputs": [],
   "source": [
    "pipe_svm = Pipeline(steps=[('data_transformer', data_transformer),\n",
    "                           ('pipe_svm',  LinearSVC(random_state=0, max_iter=10000, tol=0.01))])\n",
    "\n",
    "grid_svm = GridSearchCV(pipe_svm, param_grid=param_grid)\n",
    "\n",
    "grid_svm.fit(X_train, y_train);"
   ]
  },
  {
   "cell_type": "markdown",
   "id": "9f8865ea",
   "metadata": {},
   "source": [
    "## Compare the performance of the classification models by the ROC curve"
   ]
  },
  {
   "cell_type": "code",
   "execution_count": 28,
   "id": "d7b98999",
   "metadata": {},
   "outputs": [
    {
     "name": "stderr",
     "output_type": "stream",
     "text": [
      "/Users/kaifangzhou/opt/anaconda3/lib/python3.8/site-packages/sklearn/utils/deprecation.py:87: FutureWarning: Function plot_roc_curve is deprecated; Function :func:`plot_roc_curve` is deprecated in 1.0 and will be removed in 1.2. Use one of the class methods: :meth:`sklearn.metric.RocCurveDisplay.from_predictions` or :meth:`sklearn.metric.RocCurveDisplay.from_estimator`.\n",
      "  warnings.warn(msg, category=FutureWarning)\n",
      "/Users/kaifangzhou/opt/anaconda3/lib/python3.8/site-packages/sklearn/utils/deprecation.py:87: FutureWarning: Function plot_roc_curve is deprecated; Function :func:`plot_roc_curve` is deprecated in 1.0 and will be removed in 1.2. Use one of the class methods: :meth:`sklearn.metric.RocCurveDisplay.from_predictions` or :meth:`sklearn.metric.RocCurveDisplay.from_estimator`.\n",
      "  warnings.warn(msg, category=FutureWarning)\n",
      "/Users/kaifangzhou/opt/anaconda3/lib/python3.8/site-packages/sklearn/utils/deprecation.py:87: FutureWarning: Function plot_roc_curve is deprecated; Function :func:`plot_roc_curve` is deprecated in 1.0 and will be removed in 1.2. Use one of the class methods: :meth:`sklearn.metric.RocCurveDisplay.from_predictions` or :meth:`sklearn.metric.RocCurveDisplay.from_estimator`.\n",
      "  warnings.warn(msg, category=FutureWarning)\n",
      "/Users/kaifangzhou/opt/anaconda3/lib/python3.8/site-packages/sklearn/utils/deprecation.py:87: FutureWarning: Function plot_roc_curve is deprecated; Function :func:`plot_roc_curve` is deprecated in 1.0 and will be removed in 1.2. Use one of the class methods: :meth:`sklearn.metric.RocCurveDisplay.from_predictions` or :meth:`sklearn.metric.RocCurveDisplay.from_estimator`.\n",
      "  warnings.warn(msg, category=FutureWarning)\n",
      "/Users/kaifangzhou/opt/anaconda3/lib/python3.8/site-packages/sklearn/utils/deprecation.py:87: FutureWarning: Function plot_roc_curve is deprecated; Function :func:`plot_roc_curve` is deprecated in 1.0 and will be removed in 1.2. Use one of the class methods: :meth:`sklearn.metric.RocCurveDisplay.from_predictions` or :meth:`sklearn.metric.RocCurveDisplay.from_estimator`.\n",
      "  warnings.warn(msg, category=FutureWarning)\n",
      "/Users/kaifangzhou/opt/anaconda3/lib/python3.8/site-packages/sklearn/utils/deprecation.py:87: FutureWarning: Function plot_roc_curve is deprecated; Function :func:`plot_roc_curve` is deprecated in 1.0 and will be removed in 1.2. Use one of the class methods: :meth:`sklearn.metric.RocCurveDisplay.from_predictions` or :meth:`sklearn.metric.RocCurveDisplay.from_estimator`.\n",
      "  warnings.warn(msg, category=FutureWarning)\n",
      "/Users/kaifangzhou/opt/anaconda3/lib/python3.8/site-packages/sklearn/utils/deprecation.py:87: FutureWarning: Function plot_roc_curve is deprecated; Function :func:`plot_roc_curve` is deprecated in 1.0 and will be removed in 1.2. Use one of the class methods: :meth:`sklearn.metric.RocCurveDisplay.from_predictions` or :meth:`sklearn.metric.RocCurveDisplay.from_estimator`.\n",
      "  warnings.warn(msg, category=FutureWarning)\n"
     ]
    },
    {
     "data": {
      "image/png": "[encoded data removed]",
      "text/plain": [
       "<Figure size 640x480 with 1 Axes>"
      ]
     },
     "metadata": {},
     "output_type": "display_data"
    }
   ],
   "source": [
    "ax = plt.gca()\n",
    "plot_roc_curve(grid_lr, X_test, y_test, ax=ax, name='Logistic Regression')\n",
    "plot_roc_curve(grid_gdb, X_test, y_test, ax=ax, name='Gradient Boosting')\n",
    "plot_roc_curve(grid_plr, X_test, y_test, ax=ax, name='Penalised logistic regression')\n",
    "plot_roc_curve(grid_tree, X_test, y_test, ax=ax, name='Classification trees')\n",
    "plot_roc_curve(grid_rf, X_test, y_test, ax=ax, name='Random forests')\n",
    "plot_roc_curve(grid_gp, X_test, y_test, ax=ax, name='Gaussian process classification')\n",
    "plot_roc_curve(grid_svm, X_test, y_test, ax=ax, name='Support vector machines')\n",
    "plt.plot([0, 1], [0, 1], color='black', lw=1, linestyle='--')\n",
    "plt.show()"
   ]
  }
 ],
 "metadata": {
  "kernelspec": {
   "display_name": "Python 3 (ipykernel)",
   "language": "python",
   "name": "python3"
  },
  "language_info": {
   "codemirror_mode": {
    "name": "ipython",
    "version": 3
   },
   "file_extension": ".py",
   "mimetype": "text/x-python",
   "name": "python",
   "nbconvert_exporter": "python",
   "pygments_lexer": "ipython3",
   "version": "3.11.3"
  }
 },
 "nbformat": 4,
 "nbformat_minor": 5
}
